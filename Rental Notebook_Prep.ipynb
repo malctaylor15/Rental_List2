{
 "cells": [
  {
   "cell_type": "code",
   "execution_count": 1,
   "metadata": {
    "collapsed": false
   },
   "outputs": [],
   "source": [
    "import os \n",
    "import pandas as pd \n",
    "import numpy as np\n",
    "import shutil"
   ]
  },
  {
   "cell_type": "code",
   "execution_count": 2,
   "metadata": {
    "collapsed": false
   },
   "outputs": [],
   "source": [
    "path = \"C:/Users/board/Desktop/Kaggle/Rental-List-Inquiries/images_sample/\""
   ]
  },
  {
   "cell_type": "code",
   "execution_count": 19,
   "metadata": {
    "collapsed": false
   },
   "outputs": [],
   "source": [
    "folders = []\n",
    "for root, dirs, files in os.walk(path):\n",
    "    for dir in dirs:\n",
    "        num_files = len(os.listdir(os.path.join(root, dir)))\n",
    "        folders.append((dir, num_files))"
   ]
  },
  {
   "cell_type": "raw",
   "metadata": {},
   "source": [
    "for root, dirs, files in os.walk(path):\n",
    "    print (root)\n",
    "    for dir in dirs:\n",
    "        print( os.path.join(root, dir))\n",
    "    for file in files:\n",
    "        print( os.path.join(root, file))"
   ]
  },
  {
   "cell_type": "code",
   "execution_count": 20,
   "metadata": {
    "collapsed": false,
    "scrolled": true
   },
   "outputs": [
    {
     "data": {
      "text/plain": [
       "[('6811957', 5),\n",
       " ('6811958', 4),\n",
       " ('6811960', 6),\n",
       " ('6811964', 5),\n",
       " ('6811965', 2),\n",
       " ('6811966', 7),\n",
       " ('6811971', 7),\n",
       " ('6811973', 5),\n",
       " ('6811974', 9),\n",
       " ('6811975', 7),\n",
       " ('6811983', 3),\n",
       " ('6811984', 5),\n",
       " ('6811985', 0),\n",
       " ('6811988', 8),\n",
       " ('6811990', 3),\n",
       " ('6811992', 6),\n",
       " ('6811995', 6),\n",
       " ('6811997', 1),\n",
       " ('6812000', 5),\n",
       " ('6812002', 0),\n",
       " ('6812004', 5),\n",
       " ('6812005', 0),\n",
       " ('6812009', 6),\n",
       " ('6812012', 3),\n",
       " ('6812016', 6),\n",
       " ('6812025', 0),\n",
       " ('6812032', 9),\n",
       " ('6812033', 1),\n",
       " ('6812035', 7),\n",
       " ('6812041', 3),\n",
       " ('6812045', 4),\n",
       " ('6812048', 3),\n",
       " ('6812049', 5),\n",
       " ('6812050', 4),\n",
       " ('6812051', 4),\n",
       " ('6812052', 5),\n",
       " ('6812054', 3),\n",
       " ('6812061', 11),\n",
       " ('6812062', 0),\n",
       " ('6812063', 4),\n",
       " ('6812064', 6),\n",
       " ('6812077', 9),\n",
       " ('6812082', 0),\n",
       " ('6812083', 8),\n",
       " ('6812086', 0),\n",
       " ('6812091', 3),\n",
       " ('6812098', 1),\n",
       " ('6812103', 7),\n",
       " ('6812106', 5),\n",
       " ('6812107', 8),\n",
       " ('6812112', 3),\n",
       " ('6812113', 5),\n",
       " ('6812119', 4),\n",
       " ('6812120', 0),\n",
       " ('6812122', 7),\n",
       " ('6812126', 2),\n",
       " ('6812127', 0),\n",
       " ('6812133', 0),\n",
       " ('6812135', 1),\n",
       " ('6812140', 4),\n",
       " ('6812141', 3),\n",
       " ('6812142', 13),\n",
       " ('6812143', 0),\n",
       " ('6812150', 1),\n",
       " ('6812151', 5),\n",
       " ('6812153', 0),\n",
       " ('6812154', 2),\n",
       " ('6812157', 6),\n",
       " ('6812158', 7),\n",
       " ('6812160', 0),\n",
       " ('6812162', 0),\n",
       " ('6812174', 5),\n",
       " ('6812175', 9),\n",
       " ('6812177', 13),\n",
       " ('6812178', 0),\n",
       " ('6812179', 7),\n",
       " ('6812181', 3),\n",
       " ('6812186', 14),\n",
       " ('6812187', 4),\n",
       " ('6812190', 0),\n",
       " ('6812192', 3),\n",
       " ('6812195', 4),\n",
       " ('6812198', 3),\n",
       " ('6812201', 4),\n",
       " ('6812208', 0),\n",
       " ('6812210', 0),\n",
       " ('6812215', 13),\n",
       " ('6812216', 4),\n",
       " ('6812223', 9),\n",
       " ('6812233', 2),\n",
       " ('6812234', 5),\n",
       " ('6812239', 3),\n",
       " ('6812243', 4),\n",
       " ('6812256', 1),\n",
       " ('6812257', 3),\n",
       " ('6812258', 4),\n",
       " ('6812259', 0),\n",
       " ('6812263', 6),\n",
       " ('6812264', 2),\n",
       " ('6812266', 2)]"
      ]
     },
     "execution_count": 20,
     "metadata": {},
     "output_type": "execute_result"
    }
   ],
   "source": [
    "folders"
   ]
  },
  {
   "cell_type": "code",
   "execution_count": 61,
   "metadata": {
    "collapsed": false
   },
   "outputs": [],
   "source": [
    "img_id = pd.DataFrame(folders, columns = [\"listing_id\", \"num_imgs\"])\n",
    "img_id[\"listing_id2\"] = pd.to_numeric(img_id[\"listing_id\"])"
   ]
  },
  {
   "cell_type": "code",
   "execution_count": 62,
   "metadata": {
    "collapsed": false
   },
   "outputs": [
    {
     "data": {
      "text/plain": [
       "listing_id     object\n",
       "num_imgs        int64\n",
       "listing_id2     int64\n",
       "dtype: object"
      ]
     },
     "execution_count": 62,
     "metadata": {},
     "output_type": "execute_result"
    }
   ],
   "source": [
    "img_id.dtypes"
   ]
  },
  {
   "cell_type": "code",
   "execution_count": 63,
   "metadata": {
    "collapsed": false
   },
   "outputs": [
    {
     "data": {
      "text/html": [
       "<div>\n",
       "<table border=\"1\" class=\"dataframe\">\n",
       "  <thead>\n",
       "    <tr style=\"text-align: right;\">\n",
       "      <th></th>\n",
       "      <th>listing_id</th>\n",
       "      <th>num_imgs</th>\n",
       "      <th>listing_id2</th>\n",
       "    </tr>\n",
       "  </thead>\n",
       "  <tbody>\n",
       "    <tr>\n",
       "      <th>0</th>\n",
       "      <td>6811957</td>\n",
       "      <td>5</td>\n",
       "      <td>6811957</td>\n",
       "    </tr>\n",
       "    <tr>\n",
       "      <th>1</th>\n",
       "      <td>6811958</td>\n",
       "      <td>4</td>\n",
       "      <td>6811958</td>\n",
       "    </tr>\n",
       "    <tr>\n",
       "      <th>2</th>\n",
       "      <td>6811960</td>\n",
       "      <td>6</td>\n",
       "      <td>6811960</td>\n",
       "    </tr>\n",
       "    <tr>\n",
       "      <th>3</th>\n",
       "      <td>6811964</td>\n",
       "      <td>5</td>\n",
       "      <td>6811964</td>\n",
       "    </tr>\n",
       "    <tr>\n",
       "      <th>4</th>\n",
       "      <td>6811965</td>\n",
       "      <td>2</td>\n",
       "      <td>6811965</td>\n",
       "    </tr>\n",
       "  </tbody>\n",
       "</table>\n",
       "</div>"
      ],
      "text/plain": [
       "  listing_id  num_imgs  listing_id2\n",
       "0    6811957         5      6811957\n",
       "1    6811958         4      6811958\n",
       "2    6811960         6      6811960\n",
       "3    6811964         5      6811964\n",
       "4    6811965         2      6811965"
      ]
     },
     "execution_count": 63,
     "metadata": {},
     "output_type": "execute_result"
    }
   ],
   "source": [
    "img_id.head()"
   ]
  },
  {
   "cell_type": "code",
   "execution_count": 30,
   "metadata": {
    "collapsed": false
   },
   "outputs": [
    {
     "data": {
      "text/plain": [
       "100"
      ]
     },
     "execution_count": 30,
     "metadata": {},
     "output_type": "execute_result"
    }
   ],
   "source": [
    "img_id.num_imgs.count()"
   ]
  },
  {
   "cell_type": "code",
   "execution_count": 24,
   "metadata": {
    "collapsed": false,
    "scrolled": true
   },
   "outputs": [],
   "source": [
    "train_data = pd.read_json(\"./input/train.json\")\n",
    "test_data = pd.read_json(\"./input/test.json\")"
   ]
  },
  {
   "cell_type": "code",
   "execution_count": 25,
   "metadata": {
    "collapsed": false,
    "scrolled": true
   },
   "outputs": [
    {
     "data": {
      "text/html": [
       "<div>\n",
       "<table border=\"1\" class=\"dataframe\">\n",
       "  <thead>\n",
       "    <tr style=\"text-align: right;\">\n",
       "      <th></th>\n",
       "      <th>bathrooms</th>\n",
       "      <th>bedrooms</th>\n",
       "      <th>building_id</th>\n",
       "      <th>created</th>\n",
       "      <th>description</th>\n",
       "      <th>display_address</th>\n",
       "      <th>features</th>\n",
       "      <th>interest_level</th>\n",
       "      <th>latitude</th>\n",
       "      <th>listing_id</th>\n",
       "      <th>longitude</th>\n",
       "      <th>manager_id</th>\n",
       "      <th>photos</th>\n",
       "      <th>price</th>\n",
       "      <th>street_address</th>\n",
       "    </tr>\n",
       "  </thead>\n",
       "  <tbody>\n",
       "    <tr>\n",
       "      <th>10</th>\n",
       "      <td>1.5</td>\n",
       "      <td>3</td>\n",
       "      <td>53a5b119ba8f7b61d4e010512e0dfc85</td>\n",
       "      <td>2016-06-24 07:54:24</td>\n",
       "      <td>A Brand New 3 Bedroom 1.5 bath ApartmentEnjoy ...</td>\n",
       "      <td>Metropolitan Avenue</td>\n",
       "      <td>[]</td>\n",
       "      <td>medium</td>\n",
       "      <td>40.7145</td>\n",
       "      <td>7211212</td>\n",
       "      <td>-73.9425</td>\n",
       "      <td>5ba989232d0489da1b5f2c45f6688adc</td>\n",
       "      <td>[https://photos.renthop.com/2/7211212_1ed4542e...</td>\n",
       "      <td>3000</td>\n",
       "      <td>792 Metropolitan Avenue</td>\n",
       "    </tr>\n",
       "    <tr>\n",
       "      <th>10000</th>\n",
       "      <td>1.0</td>\n",
       "      <td>2</td>\n",
       "      <td>c5c8a357cba207596b04d1afd1e4f130</td>\n",
       "      <td>2016-06-12 12:19:27</td>\n",
       "      <td></td>\n",
       "      <td>Columbus Avenue</td>\n",
       "      <td>[Doorman, Elevator, Fitness Center, Cats Allow...</td>\n",
       "      <td>low</td>\n",
       "      <td>40.7947</td>\n",
       "      <td>7150865</td>\n",
       "      <td>-73.9667</td>\n",
       "      <td>7533621a882f71e25173b27e3139d83d</td>\n",
       "      <td>[https://photos.renthop.com/2/7150865_be3306c5...</td>\n",
       "      <td>5465</td>\n",
       "      <td>808 Columbus Avenue</td>\n",
       "    </tr>\n",
       "    <tr>\n",
       "      <th>100004</th>\n",
       "      <td>1.0</td>\n",
       "      <td>1</td>\n",
       "      <td>c3ba40552e2120b0acfc3cb5730bb2aa</td>\n",
       "      <td>2016-04-17 03:26:41</td>\n",
       "      <td>Top Top West Village location, beautiful Pre-w...</td>\n",
       "      <td>W 13 Street</td>\n",
       "      <td>[Laundry In Building, Dishwasher, Hardwood Flo...</td>\n",
       "      <td>high</td>\n",
       "      <td>40.7388</td>\n",
       "      <td>6887163</td>\n",
       "      <td>-74.0018</td>\n",
       "      <td>d9039c43983f6e564b1482b273bd7b01</td>\n",
       "      <td>[https://photos.renthop.com/2/6887163_de85c427...</td>\n",
       "      <td>2850</td>\n",
       "      <td>241 W 13 Street</td>\n",
       "    </tr>\n",
       "    <tr>\n",
       "      <th>100007</th>\n",
       "      <td>1.0</td>\n",
       "      <td>1</td>\n",
       "      <td>28d9ad350afeaab8027513a3e52ac8d5</td>\n",
       "      <td>2016-04-18 02:22:02</td>\n",
       "      <td>Building Amenities - Garage - Garden - fitness...</td>\n",
       "      <td>East 49th Street</td>\n",
       "      <td>[Hardwood Floors, No Fee]</td>\n",
       "      <td>low</td>\n",
       "      <td>40.7539</td>\n",
       "      <td>6888711</td>\n",
       "      <td>-73.9677</td>\n",
       "      <td>1067e078446a7897d2da493d2f741316</td>\n",
       "      <td>[https://photos.renthop.com/2/6888711_6e660cee...</td>\n",
       "      <td>3275</td>\n",
       "      <td>333 East 49th Street</td>\n",
       "    </tr>\n",
       "    <tr>\n",
       "      <th>100013</th>\n",
       "      <td>1.0</td>\n",
       "      <td>4</td>\n",
       "      <td>0</td>\n",
       "      <td>2016-04-28 01:32:41</td>\n",
       "      <td>Beautifully renovated 3 bedroom flex 4 bedroom...</td>\n",
       "      <td>West 143rd Street</td>\n",
       "      <td>[Pre-War]</td>\n",
       "      <td>low</td>\n",
       "      <td>40.8241</td>\n",
       "      <td>6934781</td>\n",
       "      <td>-73.9493</td>\n",
       "      <td>98e13ad4b495b9613cef886d79a6291f</td>\n",
       "      <td>[https://photos.renthop.com/2/6934781_1fa4b41a...</td>\n",
       "      <td>3350</td>\n",
       "      <td>500 West 143rd Street</td>\n",
       "    </tr>\n",
       "  </tbody>\n",
       "</table>\n",
       "</div>"
      ],
      "text/plain": [
       "        bathrooms  bedrooms                       building_id  \\\n",
       "10            1.5         3  53a5b119ba8f7b61d4e010512e0dfc85   \n",
       "10000         1.0         2  c5c8a357cba207596b04d1afd1e4f130   \n",
       "100004        1.0         1  c3ba40552e2120b0acfc3cb5730bb2aa   \n",
       "100007        1.0         1  28d9ad350afeaab8027513a3e52ac8d5   \n",
       "100013        1.0         4                                 0   \n",
       "\n",
       "                    created  \\\n",
       "10      2016-06-24 07:54:24   \n",
       "10000   2016-06-12 12:19:27   \n",
       "100004  2016-04-17 03:26:41   \n",
       "100007  2016-04-18 02:22:02   \n",
       "100013  2016-04-28 01:32:41   \n",
       "\n",
       "                                              description  \\\n",
       "10      A Brand New 3 Bedroom 1.5 bath ApartmentEnjoy ...   \n",
       "10000                                                       \n",
       "100004  Top Top West Village location, beautiful Pre-w...   \n",
       "100007  Building Amenities - Garage - Garden - fitness...   \n",
       "100013  Beautifully renovated 3 bedroom flex 4 bedroom...   \n",
       "\n",
       "            display_address  \\\n",
       "10      Metropolitan Avenue   \n",
       "10000       Columbus Avenue   \n",
       "100004          W 13 Street   \n",
       "100007     East 49th Street   \n",
       "100013    West 143rd Street   \n",
       "\n",
       "                                                 features interest_level  \\\n",
       "10                                                     []         medium   \n",
       "10000   [Doorman, Elevator, Fitness Center, Cats Allow...            low   \n",
       "100004  [Laundry In Building, Dishwasher, Hardwood Flo...           high   \n",
       "100007                          [Hardwood Floors, No Fee]            low   \n",
       "100013                                          [Pre-War]            low   \n",
       "\n",
       "        latitude  listing_id  longitude                        manager_id  \\\n",
       "10       40.7145     7211212   -73.9425  5ba989232d0489da1b5f2c45f6688adc   \n",
       "10000    40.7947     7150865   -73.9667  7533621a882f71e25173b27e3139d83d   \n",
       "100004   40.7388     6887163   -74.0018  d9039c43983f6e564b1482b273bd7b01   \n",
       "100007   40.7539     6888711   -73.9677  1067e078446a7897d2da493d2f741316   \n",
       "100013   40.8241     6934781   -73.9493  98e13ad4b495b9613cef886d79a6291f   \n",
       "\n",
       "                                                   photos  price  \\\n",
       "10      [https://photos.renthop.com/2/7211212_1ed4542e...   3000   \n",
       "10000   [https://photos.renthop.com/2/7150865_be3306c5...   5465   \n",
       "100004  [https://photos.renthop.com/2/6887163_de85c427...   2850   \n",
       "100007  [https://photos.renthop.com/2/6888711_6e660cee...   3275   \n",
       "100013  [https://photos.renthop.com/2/6934781_1fa4b41a...   3350   \n",
       "\n",
       "                 street_address  \n",
       "10      792 Metropolitan Avenue  \n",
       "10000       808 Columbus Avenue  \n",
       "100004          241 W 13 Street  \n",
       "100007     333 East 49th Street  \n",
       "100013    500 West 143rd Street  "
      ]
     },
     "execution_count": 25,
     "metadata": {},
     "output_type": "execute_result"
    }
   ],
   "source": [
    "train_data.head()"
   ]
  },
  {
   "cell_type": "code",
   "execution_count": null,
   "metadata": {
    "collapsed": true
   },
   "outputs": [],
   "source": []
  },
  {
   "cell_type": "code",
   "execution_count": 26,
   "metadata": {
    "collapsed": false
   },
   "outputs": [],
   "source": [
    "matched_imgs = pd.merge(train_data[[\"listing_id\", \"interest_level\"]], img_id, \n",
    "                        how = \"inner\",  left_on = \"listing_id\", right_on = \"listing_id2\")"
   ]
  },
  {
   "cell_type": "code",
   "execution_count": 27,
   "metadata": {
    "collapsed": false
   },
   "outputs": [
    {
     "data": {
      "text/plain": [
       "(42, 5)"
      ]
     },
     "execution_count": 27,
     "metadata": {},
     "output_type": "execute_result"
    }
   ],
   "source": [
    "matched_imgs.shape"
   ]
  },
  {
   "cell_type": "code",
   "execution_count": 31,
   "metadata": {
    "collapsed": false
   },
   "outputs": [],
   "source": [
    "matched_imgs_test = pd.merge(test_data, img_id, how = \"inner\",  left_on = \"listing_id\", right_on = \"listing_id2\")"
   ]
  },
  {
   "cell_type": "code",
   "execution_count": 32,
   "metadata": {
    "collapsed": false
   },
   "outputs": [
    {
     "data": {
      "text/plain": [
       "(58, 17)"
      ]
     },
     "execution_count": 32,
     "metadata": {},
     "output_type": "execute_result"
    }
   ],
   "source": [
    "matched_imgs_test.shape"
   ]
  },
  {
   "cell_type": "code",
   "execution_count": 67,
   "metadata": {
    "collapsed": false
   },
   "outputs": [
    {
     "data": {
      "text/plain": [
       "247"
      ]
     },
     "execution_count": 67,
     "metadata": {},
     "output_type": "execute_result"
    }
   ],
   "source": [
    "matched_imgs_test.num_imgs.sum()"
   ]
  },
  {
   "cell_type": "code",
   "execution_count": 33,
   "metadata": {
    "collapsed": false
   },
   "outputs": [],
   "source": [
    "def copy_all_files(source, dest):\n",
    "    src_files = os.listdir(source)\n",
    "    counter = 0\n",
    "    for file_name in src_files:\n",
    "        full_file_name = os.path.join(source, file_name)\n",
    "        if (os.path.isfile(full_file_name)):\n",
    "            shutil.copy(full_file_name, dest)\n",
    "            counter = counter + 1\n",
    "    print(\"Copied \", counter, \" from \", source, \" to \", dest)\n",
    "    return ()"
   ]
  },
  {
   "cell_type": "code",
   "execution_count": 34,
   "metadata": {
    "collapsed": true
   },
   "outputs": [],
   "source": [
    "low_match = matched_imgs[matched_imgs.interest_level == 'low']\n",
    "medium_match = matched_imgs[matched_imgs.interest_level == 'medium']\n",
    "high_match = matched_imgs[matched_imgs.interest_level == 'high']"
   ]
  },
  {
   "cell_type": "code",
   "execution_count": 35,
   "metadata": {
    "collapsed": false
   },
   "outputs": [
    {
     "name": "stdout",
     "output_type": "stream",
     "text": [
      "141 14 12\n"
     ]
    }
   ],
   "source": [
    "print(low_match.num_imgs.sum(),\n",
    "medium_match.num_imgs.sum(),\n",
    "high_match.num_imgs.sum())"
   ]
  },
  {
   "cell_type": "code",
   "execution_count": 42,
   "metadata": {
    "collapsed": false
   },
   "outputs": [
    {
     "data": {
      "text/plain": [
       "(36, 5)"
      ]
     },
     "execution_count": 42,
     "metadata": {},
     "output_type": "execute_result"
    }
   ],
   "source": [
    "low_match.shape"
   ]
  },
  {
   "cell_type": "code",
   "execution_count": 36,
   "metadata": {
    "collapsed": true
   },
   "outputs": [],
   "source": [
    "no_match = []\n",
    "source = \"C:/Users/board/Desktop/Kaggle/Rental-List-Inquiries/images_sample/\"\n",
    "dest_base = \"C:/Users/board/Desktop/Kaggle/Rental-List-Inquiries/Images_Labeled/\""
   ]
  },
  {
   "cell_type": "code",
   "execution_count": 40,
   "metadata": {
    "collapsed": false
   },
   "outputs": [],
   "source": [
    "if not os.path.isdir(dest_base):\n",
    "    os.mkdir(dest_base)"
   ]
  },
  {
   "cell_type": "code",
   "execution_count": 44,
   "metadata": {
    "collapsed": true
   },
   "outputs": [],
   "source": [
    "os.mkdir(dest_base+\"/low/\")\n",
    "os.mkdir(dest_base+\"/medium/\")\n",
    "os.mkdir(dest_base+\"/high/\")"
   ]
  },
  {
   "cell_type": "code",
   "execution_count": 41,
   "metadata": {
    "collapsed": false
   },
   "outputs": [
    {
     "data": {
      "text/plain": [
       "True"
      ]
     },
     "execution_count": 41,
     "metadata": {},
     "output_type": "execute_result"
    }
   ],
   "source": [
    "os.path.isdir(dest_base)"
   ]
  },
  {
   "cell_type": "code",
   "execution_count": 45,
   "metadata": {
    "collapsed": false,
    "scrolled": true
   },
   "outputs": [
    {
     "name": "stdout",
     "output_type": "stream",
     "text": [
      "Copied  9  from  C:/Users/board/Desktop/Kaggle/Rental-List-Inquiries/images_sample/6812223/  to  C:/Users/board/Desktop/Kaggle/Rental-List-Inquiries/Images_Labeled/low/\n",
      "Copied  2  from  C:/Users/board/Desktop/Kaggle/Rental-List-Inquiries/images_sample/6812154/  to  C:/Users/board/Desktop/Kaggle/Rental-List-Inquiries/Images_Labeled/low/\n",
      "Copied  0  from  C:/Users/board/Desktop/Kaggle/Rental-List-Inquiries/images_sample/6812133/  to  C:/Users/board/Desktop/Kaggle/Rental-List-Inquiries/Images_Labeled/low/\n",
      "Copied  13  from  C:/Users/board/Desktop/Kaggle/Rental-List-Inquiries/images_sample/6812142/  to  C:/Users/board/Desktop/Kaggle/Rental-List-Inquiries/Images_Labeled/low/\n",
      "Copied  0  from  C:/Users/board/Desktop/Kaggle/Rental-List-Inquiries/images_sample/6812120/  to  C:/Users/board/Desktop/Kaggle/Rental-List-Inquiries/Images_Labeled/low/\n",
      "Copied  3  from  C:/Users/board/Desktop/Kaggle/Rental-List-Inquiries/images_sample/6812112/  to  C:/Users/board/Desktop/Kaggle/Rental-List-Inquiries/Images_Labeled/low/\n",
      "Copied  3  from  C:/Users/board/Desktop/Kaggle/Rental-List-Inquiries/images_sample/6812048/  to  C:/Users/board/Desktop/Kaggle/Rental-List-Inquiries/Images_Labeled/low/\n",
      "Copied  11  from  C:/Users/board/Desktop/Kaggle/Rental-List-Inquiries/images_sample/6812061/  to  C:/Users/board/Desktop/Kaggle/Rental-List-Inquiries/Images_Labeled/low/\n",
      "Copied  7  from  C:/Users/board/Desktop/Kaggle/Rental-List-Inquiries/images_sample/6812103/  to  C:/Users/board/Desktop/Kaggle/Rental-List-Inquiries/Images_Labeled/low/\n",
      "Copied  5  from  C:/Users/board/Desktop/Kaggle/Rental-List-Inquiries/images_sample/6812113/  to  C:/Users/board/Desktop/Kaggle/Rental-List-Inquiries/Images_Labeled/low/\n",
      "Copied  5  from  C:/Users/board/Desktop/Kaggle/Rental-List-Inquiries/images_sample/6812234/  to  C:/Users/board/Desktop/Kaggle/Rental-List-Inquiries/Images_Labeled/low/\n",
      "Copied  5  from  C:/Users/board/Desktop/Kaggle/Rental-List-Inquiries/images_sample/6812000/  to  C:/Users/board/Desktop/Kaggle/Rental-List-Inquiries/Images_Labeled/low/\n",
      "Copied  0  from  C:/Users/board/Desktop/Kaggle/Rental-List-Inquiries/images_sample/6812062/  to  C:/Users/board/Desktop/Kaggle/Rental-List-Inquiries/Images_Labeled/low/\n",
      "Copied  5  from  C:/Users/board/Desktop/Kaggle/Rental-List-Inquiries/images_sample/6812004/  to  C:/Users/board/Desktop/Kaggle/Rental-List-Inquiries/Images_Labeled/low/\n",
      "Copied  0  from  C:/Users/board/Desktop/Kaggle/Rental-List-Inquiries/images_sample/6812005/  to  C:/Users/board/Desktop/Kaggle/Rental-List-Inquiries/Images_Labeled/low/\n",
      "Copied  0  from  C:/Users/board/Desktop/Kaggle/Rental-List-Inquiries/images_sample/6812208/  to  C:/Users/board/Desktop/Kaggle/Rental-List-Inquiries/Images_Labeled/low/\n",
      "Copied  3  from  C:/Users/board/Desktop/Kaggle/Rental-List-Inquiries/images_sample/6812054/  to  C:/Users/board/Desktop/Kaggle/Rental-List-Inquiries/Images_Labeled/low/\n",
      "Copied  8  from  C:/Users/board/Desktop/Kaggle/Rental-List-Inquiries/images_sample/6812083/  to  C:/Users/board/Desktop/Kaggle/Rental-List-Inquiries/Images_Labeled/low/\n",
      "Copied  0  from  C:/Users/board/Desktop/Kaggle/Rental-List-Inquiries/images_sample/6812162/  to  C:/Users/board/Desktop/Kaggle/Rental-List-Inquiries/Images_Labeled/low/\n",
      "Copied  3  from  C:/Users/board/Desktop/Kaggle/Rental-List-Inquiries/images_sample/6812192/  to  C:/Users/board/Desktop/Kaggle/Rental-List-Inquiries/Images_Labeled/low/\n",
      "Copied  7  from  C:/Users/board/Desktop/Kaggle/Rental-List-Inquiries/images_sample/6812122/  to  C:/Users/board/Desktop/Kaggle/Rental-List-Inquiries/Images_Labeled/low/\n",
      "Copied  4  from  C:/Users/board/Desktop/Kaggle/Rental-List-Inquiries/images_sample/6812258/  to  C:/Users/board/Desktop/Kaggle/Rental-List-Inquiries/Images_Labeled/low/\n",
      "Copied  0  from  C:/Users/board/Desktop/Kaggle/Rental-List-Inquiries/images_sample/6812086/  to  C:/Users/board/Desktop/Kaggle/Rental-List-Inquiries/Images_Labeled/low/\n",
      "Copied  7  from  C:/Users/board/Desktop/Kaggle/Rental-List-Inquiries/images_sample/6812179/  to  C:/Users/board/Desktop/Kaggle/Rental-List-Inquiries/Images_Labeled/low/\n",
      "Copied  8  from  C:/Users/board/Desktop/Kaggle/Rental-List-Inquiries/images_sample/6812107/  to  C:/Users/board/Desktop/Kaggle/Rental-List-Inquiries/Images_Labeled/low/\n",
      "Copied  3  from  C:/Users/board/Desktop/Kaggle/Rental-List-Inquiries/images_sample/6812198/  to  C:/Users/board/Desktop/Kaggle/Rental-List-Inquiries/Images_Labeled/low/\n",
      "Copied  4  from  C:/Users/board/Desktop/Kaggle/Rental-List-Inquiries/images_sample/6812201/  to  C:/Users/board/Desktop/Kaggle/Rental-List-Inquiries/Images_Labeled/low/\n",
      "Copied  6  from  C:/Users/board/Desktop/Kaggle/Rental-List-Inquiries/images_sample/6812009/  to  C:/Users/board/Desktop/Kaggle/Rental-List-Inquiries/Images_Labeled/low/\n",
      "Copied  6  from  C:/Users/board/Desktop/Kaggle/Rental-List-Inquiries/images_sample/6812064/  to  C:/Users/board/Desktop/Kaggle/Rental-List-Inquiries/Images_Labeled/low/\n",
      "Copied  0  from  C:/Users/board/Desktop/Kaggle/Rental-List-Inquiries/images_sample/6812002/  to  C:/Users/board/Desktop/Kaggle/Rental-List-Inquiries/Images_Labeled/low/\n",
      "Copied  1  from  C:/Users/board/Desktop/Kaggle/Rental-List-Inquiries/images_sample/6812256/  to  C:/Users/board/Desktop/Kaggle/Rental-List-Inquiries/Images_Labeled/low/\n",
      "Copied  1  from  C:/Users/board/Desktop/Kaggle/Rental-List-Inquiries/images_sample/6812150/  to  C:/Users/board/Desktop/Kaggle/Rental-List-Inquiries/Images_Labeled/low/\n",
      "Copied  2  from  C:/Users/board/Desktop/Kaggle/Rental-List-Inquiries/images_sample/6812233/  to  C:/Users/board/Desktop/Kaggle/Rental-List-Inquiries/Images_Labeled/low/\n",
      "Copied  1  from  C:/Users/board/Desktop/Kaggle/Rental-List-Inquiries/images_sample/6812033/  to  C:/Users/board/Desktop/Kaggle/Rental-List-Inquiries/Images_Labeled/low/\n",
      "Copied  0  from  C:/Users/board/Desktop/Kaggle/Rental-List-Inquiries/images_sample/6812160/  to  C:/Users/board/Desktop/Kaggle/Rental-List-Inquiries/Images_Labeled/low/\n",
      "Copied  9  from  C:/Users/board/Desktop/Kaggle/Rental-List-Inquiries/images_sample/6812175/  to  C:/Users/board/Desktop/Kaggle/Rental-List-Inquiries/Images_Labeled/low/\n",
      "Copied  7  from  C:/Users/board/Desktop/Kaggle/Rental-List-Inquiries/images_sample/6811975/  to  C:/Users/board/Desktop/Kaggle/Rental-List-Inquiries/Images_Labeled/medium/\n",
      "Copied  0  from  C:/Users/board/Desktop/Kaggle/Rental-List-Inquiries/images_sample/6812025/  to  C:/Users/board/Desktop/Kaggle/Rental-List-Inquiries/Images_Labeled/medium/\n",
      "Copied  5  from  C:/Users/board/Desktop/Kaggle/Rental-List-Inquiries/images_sample/6811973/  to  C:/Users/board/Desktop/Kaggle/Rental-List-Inquiries/Images_Labeled/medium/\n",
      "Copied  2  from  C:/Users/board/Desktop/Kaggle/Rental-List-Inquiries/images_sample/6811965/  to  C:/Users/board/Desktop/Kaggle/Rental-List-Inquiries/Images_Labeled/medium/\n",
      "Copied  5  from  C:/Users/board/Desktop/Kaggle/Rental-List-Inquiries/images_sample/6811957/  to  C:/Users/board/Desktop/Kaggle/Rental-List-Inquiries/Images_Labeled/high/\n",
      "Copied  7  from  C:/Users/board/Desktop/Kaggle/Rental-List-Inquiries/images_sample/6811966/  to  C:/Users/board/Desktop/Kaggle/Rental-List-Inquiries/Images_Labeled/high/\n"
     ]
    }
   ],
   "source": [
    "for img_id in low_match.listing_id_x:\n",
    "    temp_path = source + str(img_id) +\"/\"\n",
    "    dest_low = dest_base + \"low/\"\n",
    "    copy_all_files(temp_path, dest_low)\n",
    "for img_id in medium_match.listing_id_x:\n",
    "    temp_path = source + str(img_id) +\"/\"\n",
    "    dest_medium = dest_base + \"medium/\"\n",
    "    copy_all_files(temp_path, dest_medium)  \n",
    "for img_id in high_match.listing_id_x:\n",
    "    temp_path = source + str(img_id) +\"/\"\n",
    "    dest_high = dest_base + \"high/\"\n",
    "    copy_all_files(temp_path, dest_high)"
   ]
  },
  {
   "cell_type": "code",
   "execution_count": null,
   "metadata": {
    "collapsed": true
   },
   "outputs": [],
   "source": []
  },
  {
   "cell_type": "raw",
   "metadata": {
    "collapsed": false
   },
   "source": [
    "no_match = []\n",
    "source = \"C:/Users/board/Desktop/Kaggle/Rental-List-Inquiries/images_sample/\"\n",
    "dest_base = \"C:/Users/board/Desktop/Kaggle/Rental-List-Inquiries/Images_Labeled/\"\n",
    "for img_id in low_match.listing_id_x:\n",
    "    temp_path = source + str(img_id)\n",
    "    if matched_imgs[matched_imgs.interest_level == 'low' ]:\n",
    "        dest_low = dest_base + \"low\"\n",
    "        copy_all_files(source, dest_low)\n",
    "    elif matched_imgs[matched_imgs.interest_level == 'medium']:\n",
    "        dest_medium = dest_base + \"medium\"\n",
    "        copy_all_files(source, dest_medium)\n",
    "    elif matched_imgs[matched_imgs.interest_level == 'high']:\n",
    "        dest_high = dest_base + \"high\"\n",
    "        copy_all_files(source, dest_high)\n",
    "    else: \n",
    "        no_match.append(img_id)\n",
    "        print(\"Could not find img_folder for img_id \", img_id)"
   ]
  },
  {
   "cell_type": "code",
   "execution_count": null,
   "metadata": {
    "collapsed": true
   },
   "outputs": [],
   "source": []
  },
  {
   "cell_type": "code",
   "execution_count": null,
   "metadata": {
    "collapsed": true
   },
   "outputs": [],
   "source": []
  },
  {
   "cell_type": "code",
   "execution_count": 50,
   "metadata": {
    "collapsed": true
   },
   "outputs": [],
   "source": [
    "path2 = dest_base"
   ]
  },
  {
   "cell_type": "code",
   "execution_count": 51,
   "metadata": {
    "collapsed": false
   },
   "outputs": [],
   "source": [
    "folders2 = []\n",
    "for root, dirs, files in os.walk(path2):\n",
    "    for dir in dirs:\n",
    "        num_files = len(os.listdir(os.path.join(root, dir)))\n",
    "        folders2.append((dir, num_files))"
   ]
  },
  {
   "cell_type": "code",
   "execution_count": 54,
   "metadata": {
    "collapsed": false
   },
   "outputs": [
    {
     "data": {
      "text/plain": [
       "[('high', 12), ('low', 141), ('medium', 14)]"
      ]
     },
     "execution_count": 54,
     "metadata": {},
     "output_type": "execute_result"
    }
   ],
   "source": [
    "folders2"
   ]
  },
  {
   "cell_type": "code",
   "execution_count": 56,
   "metadata": {
    "collapsed": false
   },
   "outputs": [
    {
     "data": {
      "text/html": [
       "<div>\n",
       "<table border=\"1\" class=\"dataframe\">\n",
       "  <thead>\n",
       "    <tr style=\"text-align: right;\">\n",
       "      <th></th>\n",
       "      <th>folder</th>\n",
       "      <th>num_imgs</th>\n",
       "    </tr>\n",
       "  </thead>\n",
       "  <tbody>\n",
       "    <tr>\n",
       "      <th>0</th>\n",
       "      <td>high</td>\n",
       "      <td>12</td>\n",
       "    </tr>\n",
       "    <tr>\n",
       "      <th>1</th>\n",
       "      <td>low</td>\n",
       "      <td>141</td>\n",
       "    </tr>\n",
       "    <tr>\n",
       "      <th>2</th>\n",
       "      <td>medium</td>\n",
       "      <td>14</td>\n",
       "    </tr>\n",
       "  </tbody>\n",
       "</table>\n",
       "</div>"
      ],
      "text/plain": [
       "   folder  num_imgs\n",
       "0    high        12\n",
       "1     low       141\n",
       "2  medium        14"
      ]
     },
     "execution_count": 56,
     "metadata": {},
     "output_type": "execute_result"
    }
   ],
   "source": [
    "img_id2 = pd.DataFrame(folders2, columns = [\"folder\", \"num_imgs\"])\n",
    "img_id2.head()"
   ]
  },
  {
   "cell_type": "code",
   "execution_count": 71,
   "metadata": {
    "collapsed": false
   },
   "outputs": [
    {
     "data": {
      "text/plain": [
       "414"
      ]
     },
     "execution_count": 71,
     "metadata": {},
     "output_type": "execute_result"
    }
   ],
   "source": [
    "# new data and test data \n",
    "img_id2.num_imgs.sum() + matched_imgs_test.num_imgs.sum()"
   ]
  },
  {
   "cell_type": "code",
   "execution_count": 70,
   "metadata": {
    "collapsed": false
   },
   "outputs": [
    {
     "data": {
      "text/plain": [
       "414"
      ]
     },
     "execution_count": 70,
     "metadata": {},
     "output_type": "execute_result"
    }
   ],
   "source": [
    "# Original set \n",
    "img_id.num_imgs.sum()"
   ]
  },
  {
   "cell_type": "code",
   "execution_count": null,
   "metadata": {
    "collapsed": false
   },
   "outputs": [],
   "source": []
  },
  {
   "cell_type": "code",
   "execution_count": null,
   "metadata": {
    "collapsed": false
   },
   "outputs": [],
   "source": []
  },
  {
   "cell_type": "code",
   "execution_count": null,
   "metadata": {
    "collapsed": true
   },
   "outputs": [],
   "source": [
    "folders = []\n",
    "for root, dirs, files in os.walk(path):\n",
    "    for dir in dirs:\n",
    "        num_files = len(os.listdir(os.path.join(root, dir)))\n",
    "        folders.append((dir, num_files))"
   ]
  },
  {
   "cell_type": "code",
   "execution_count": null,
   "metadata": {
    "collapsed": true
   },
   "outputs": [],
   "source": [
    "folders = []\n",
    "for root, dirs, files in os.walk(path):\n",
    "    for dir in dirs:\n",
    "        num_files = len(os.listdir(os.path.join(root, dir)))\n",
    "        folders.append((dir, num_files))"
   ]
  }
 ],
 "metadata": {
  "kernelspec": {
   "display_name": "Python [Root]",
   "language": "python",
   "name": "Python [Root]"
  },
  "language_info": {
   "codemirror_mode": {
    "name": "ipython",
    "version": 3
   },
   "file_extension": ".py",
   "mimetype": "text/x-python",
   "name": "python",
   "nbconvert_exporter": "python",
   "pygments_lexer": "ipython3",
   "version": "3.5.2"
  }
 },
 "nbformat": 4,
 "nbformat_minor": 0
}
